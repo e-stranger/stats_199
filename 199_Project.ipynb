{
 "cells": [
  {
   "cell_type": "markdown",
   "metadata": {},
   "source": [
    "# STATS 199 \n",
    "***\n",
    "### Examining Similarity of Online Publications with K-Means Clustering and PCA\n"
   ]
  },
  {
   "cell_type": "code",
   "execution_count": 1,
   "metadata": {},
   "outputs": [],
   "source": [
    "from sklearn.decomposition import PCA\n",
    "from sklearn.cluster import KMeans\n",
    "from sklearn.feature_extraction.text import TfidfVectorizer\n",
    "import pandas, datetime, re\n",
    "import numpy as np\n",
    "from nltk.stem.snowball import EnglishStemmer\n",
    "from sklearn.preprocessing import scale\n",
    "\n",
    "\"\"\"Attempts to load csv at `filename`, exits with non-zero status code if\n",
    "fails. If optional `n_sample` argument is specified, randomly samples `n_sample`\n",
    "rows and returns that DataFrame. Returns all rows by default.\n",
    "\"\"\"\n",
    "def load_dataset(filename, n_sample=None):\n",
    "    try:\n",
    "        df = pandas.read_csv(filename)\n",
    "        if n_sample:\n",
    "            df = df.sample(n_sample)\n",
    "        return df\n",
    "    except FileNotFoundError:\n",
    "        print(\"File not found!\")\n",
    "        exit(1)\n",
    "    except Exception as e:\n",
    "        print(str(e))\n",
    "        exit(2)"
   ]
  },
  {
   "cell_type": "code",
   "execution_count": 2,
   "metadata": {},
   "outputs": [],
   "source": [
    "\"\"\" By default, returns a DataFrame with all articles after the given date. If the optional\n",
    "keyword argument `before` is true, returns all articles before the given date. Defaults to the\n",
    "date of the inauguration.\n",
    "\"\"\"\n",
    "def filter_since(year=2017, day=20, month=1, before=False, to_csv=False):\n",
    "    filenames = [\"article_data/articles1.csv\",\n",
    "                 \"article_data/articles2.csv\",\n",
    "                 \"article_data/articles3.csv\"]\n",
    "    \n",
    "    df = pandas.DataFrame()\n",
    "    for filename in filenames:\n",
    "        df = df.append(pandas.read_csv(filename))\n",
    "\n",
    "    dt = datetime.datetime(day=day, month=month, year=year)\n",
    "    df['date'] = pandas.to_datetime(df['date'], yearfirst=True)\n",
    "    \n",
    "    if before:\n",
    "        df = df.loc[df.date <= dt]\n",
    "    else:\n",
    "        df = df.loc[df.date > dt]\n",
    "    \n",
    "    if to_csv:\n",
    "        if before:\n",
    "            df.to_csv(\"before_{}_{}_{}.csv\".format(day, month, year))\n",
    "        else:\n",
    "            df.to_csv(\"after_{}_{}_{}.csv\".format(day, month, year))\n",
    "    return df"
   ]
  },
  {
   "cell_type": "code",
   "execution_count": 29,
   "metadata": {},
   "outputs": [],
   "source": [
    "stemmer = EnglishStemmer()\n",
    "\n",
    "\"\"\" Compresses consecutive whitespace characters, tokenizes with whitespace \n",
    "as word break, and then stems each word. Returns joined words.\n",
    "\"\"\"\n",
    "def stem_words(sentence):\n",
    "    sentence = re.sub(\"[\\s]+\", \"\", sentence)\n",
    "    words = [stemmer.stem(word) for word in sentence.split(\" \")]\n",
    "    return \" \".join(words)\n",
    "    \n",
    "def run_kmeans(filename, n_topics, ngram_range, n_components=2, **kwargs):\n",
    "    stemmer = EnglishStemmer()\n",
    "    data = load_dataset(filename)\n",
    "    data.dropna(subset=['content', 'title'], inplace=True)\n",
    "    vec = TfidfVectorizer(stop_words='english',\n",
    "                          ngram_range=ngram_range,\n",
    "                          max_features=1500)\n",
    "\n",
    "    titles = data['title'].apply(lambda x: stem_words(re.sub(\"( - Breitbart)|([\\s]+$)|(^[\\s]+)|(as it happened)|(\\u2019)|(\\u2018)|(\\u2013)|(\\u201c)|(\\u201d)|(\\u00a0)|( - The New York Times)\", \" \", x)))\n",
    "    transformed_docs = vec.fit_transform(titles)\n",
    "\n",
    "    transformed_docs = transformed_docs\n",
    "    scaled_docs = scale(transformed_docs, with_mean=False)\n",
    "    topic_model = KMeans(n_clusters=n_topics)\n",
    "\n",
    "    clusters = topic_model.fit_predict(scaled_docs)\n",
    "    clusters_labels = [{'index': index.item(),\n",
    "                        'cluster_label': cluster_label.item(),\n",
    "                        'title': title,\n",
    "                        'publication': publication} for index, cluster_label, title, publication in zip(np.arange(0, clusters.shape[0]), clusters, titles, data['publication'])]\n",
    "    \n",
    "    cluster_df = pandas.DataFrame(clusters_labels)\n",
    "    cluster_df.to_csv(\"clusters.csv\")\n",
    "    components = get_pc(cluster_df,\n",
    "                        n_topics=n_topics,\n",
    "                        n_components = n_components,\n",
    "                       **kwargs)\n",
    "    \n",
    "    return components\n"
   ]
  },
  {
   "cell_type": "markdown",
   "metadata": {},
   "source": [
    "***\n",
    "## Grouping Publications with Principal Component Analysis\n",
    "Next, we decompose the publication by cluster column feature matrix with Principal Component Analysis. This is a form of dimensionality reduction, and finds the lower-dimensional (given by n_components) subspace with the greatest variance. This means that we can reduce the dimensonality to either 2D or 3D along the axes that have the greatest spread, and plot it."
   ]
  },
  {
   "cell_type": "code",
   "execution_count": 37,
   "metadata": {},
   "outputs": [],
   "source": [
    "# TODO: Does scaling the feature matrix affect the results?\n",
    "\"\"\" Returns `n_components` coefficients of first `n_components` principal component\n",
    "basis vectors of column space of publication by cluster label count matrix. That is,\n",
    "each row is a different publication and each of the `n_topics` entries contains the\n",
    "count of its articles titles in that cluster. \n",
    "\"\"\"\n",
    "\n",
    "def get_pc(df, n_topics, n_components, return_model=False):\n",
    "\n",
    "    publications = pandas.unique(df['publication'])\n",
    "    init_matrix = np.zeros((publications.shape[0], n_topics))\n",
    "\n",
    "    index_converter = {}\n",
    "    for i,publication in enumerate(publications):\n",
    "        index_converter[publication] = i\n",
    "\n",
    "    for j in df.index:\n",
    "        cluster = df.loc[j, 'cluster_label']\n",
    "        init_matrix[index_converter[df.loc[j, 'publication']], cluster] += 1\n",
    "\n",
    "    pca_model = PCA(n_components=n_components, svd_solver=\"randomized\")\n",
    "    \n",
    "    components = pca_model.fit_transform(init_matrix)\n",
    "    if return_model\n",
    "    return components, publications"
   ]
  },
  {
   "cell_type": "code",
   "execution_count": 62,
   "metadata": {},
   "outputs": [
    {
     "name": "stdout",
     "output_type": "stream",
     "text": [
      "here1\n",
      "here2\n",
      "here3\n",
      "(15,)\n",
      "(15, 50)\n"
     ]
    }
   ],
   "source": [
    "n_topics=50\n",
    "\n",
    "matrix, publications = run_kmeans(\"article_data/full_articles.csv\", \n",
    "                                  n_topics=n_topics,\n",
    "                                  ngram_range=(1,3), \n",
    "                                  n_components=2)\n",
    "\n",
    "daf = pandas.DataFrame(matrix, columns=['first', 'second'])  \n",
    "daf.to_csv(\"k{}.csv\".format(n_topics))"
   ]
  },
  {
   "cell_type": "code",
   "execution_count": 59,
   "metadata": {},
   "outputs": [
    {
     "name": "stdout",
     "output_type": "stream",
     "text": [
      "The rpy2.ipython extension is already loaded. To reload it, use:\n",
      "  %reload_ext rpy2.ipython\n"
     ]
    }
   ],
   "source": [
    "import pandas, rpy2;\n",
    "import rpy2.robjects.numpy2ri, rpy2.robjects.pandas2ri;\n",
    "rpy2.robjects.numpy2ri.activate();\n",
    "rpy2.robjects.pandas2ri.activate();\n",
    "#rpy2.robjects.r['options'](warn=-1)\n",
    "%load_ext rpy2.ipython\n",
    "\n"
   ]
  },
  {
   "cell_type": "code",
   "execution_count": 63,
   "metadata": {},
   "outputs": [],
   "source": [
    "%R -i publications \n",
    "%R -i daf "
   ]
  },
  {
   "cell_type": "code",
   "execution_count": 65,
   "metadata": {},
   "outputs": [
    {
     "data": {
      "text/plain": [
       "        first      second        publications\n",
       "0  -0.2772785  0.03862549      New York Times\n",
       "1   2.6003556 -2.16435646           Breitbart\n",
       "2   0.3607369  2.17459346                 CNN\n",
       "3  -0.5763128 -0.53047409    Business Insider\n",
       "4  -0.4421355  0.30756842            Atlantic\n",
       "5  -0.9719103 -0.25619331            Fox News\n",
       "6  -0.8271802 -0.80911493 Talking Points Memo\n",
       "7  -0.8905442 -0.20499369       Buzzfeed News\n",
       "8  -0.5791328 -0.42987958     National Review\n",
       "9   1.5893368  1.65024675       New York Post\n",
       "10 -0.1610885  0.11846672            Guardian\n",
       "11  0.5108840  0.42036951                 NPR\n",
       "12  0.2573916  0.26398706             Reuters\n",
       "13 -0.8844066 -0.52480660                 Vox\n",
       "14  0.2912844 -0.05403875     Washington Post\n"
      ]
     },
     "metadata": {},
     "output_type": "display_data"
    },
    {
     "data": {
      "image/png": "[encoded data removed]"
     },
     "metadata": {},
     "output_type": "display_data"
    }
   ],
   "source": [
    "%%R library(ggplot2); library(dplyr); library(ggrepel); library(plotly);\n",
    "daf$publications = publications\n",
    "print(daf)\n",
    "\n",
    "\n",
    "graph = daf %>% ggplot() + aes(x=first, y=second) + geom_point(size=4, shape=19, color=\"blue\") + geom_text_repel(aes(label=publications),box.padding   = 0.35, \n",
    "                  point.padding = 0.5,\n",
    "                  segment.color = 'grey50') + theme_classic() + ggtitle('First, Second Principal Components, K=50') + theme(plot.title=element_text(hjust=0.5,\n",
    "                                                                                                                                                   size=14,\n",
    "                                                                                                                                                   face=\"bold\")) + ggsave(\"k50.png\")\n",
    "\n",
    "\n",
    "print(graph)\n",
    "\n",
    "#plot_ly(daf, x=~first, y=~second, z=~third, text= ~ as.factor(publications)) %>% add_markers()"
   ]
  },
  {
   "cell_type": "code",
   "execution_count": null,
   "metadata": {},
   "outputs": [],
   "source": []
  }
 ],
 "metadata": {
  "kernelspec": {
   "display_name": "Python 3",
   "language": "python",
   "name": "python3"
  },
  "language_info": {
   "codemirror_mode": {
    "name": "ipython",
    "version": 3
   },
   "file_extension": ".py",
   "mimetype": "text/x-python",
   "name": "python",
   "nbconvert_exporter": "python",
   "pygments_lexer": "ipython3",
   "version": "3.6.3"
  }
 },
 "nbformat": 4,
 "nbformat_minor": 1
}
