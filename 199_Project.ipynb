{
 "cells": [
  {
   "cell_type": "markdown",
   "metadata": {},
   "source": [
    "# STATS 199 Notebook\n",
    "\n",
    "1. Filter out articles with \"Trump\", \"Clinton\", or \"Obama\" in the title\n",
    "2. Sample 150 from each\n",
    "3. Classify them"
   ]
  },
  {
   "cell_type": "code",
   "execution_count": 1,
   "metadata": {},
   "outputs": [],
   "source": [
    "from sklearn.decomposition import LatentDirichletAllocation, NMF, PCA\n",
    "from sklearn.cluster import KMeans\n",
    "from sklearn.feature_extraction.text import TfidfVectorizer\n",
    "from utils import get_logger, get_now\n",
    "import pandas, sys, json, datetime, re, pickle\n",
    "import numpy as np\n",
    "\n",
    "def load_dataset(filename, sample=None):\n",
    "    try:\n",
    "        df = pandas.read_csv(filename)\n",
    "        if sample:\n",
    "            df = df.sample(sample)\n",
    "        return df\n",
    "    except FileNotFoundError:\n",
    "        print(\"File not found!\")\n",
    "        return None\n",
    "    except Exception as e:\n",
    "        print(str(e))\n",
    "        return None\n",
    "\n"
   ]
  },
  {
   "cell_type": "code",
   "execution_count": null,
   "metadata": {},
   "outputs": [],
   "source": []
  },
  {
   "cell_type": "code",
   "execution_count": null,
   "metadata": {},
   "outputs": [],
   "source": [
    "\"\"\" Although the focus has shifted to all titles, this is still a useful function\n",
    "to have in the toolbox.\n",
    "\"\"\"\n",
    "def filter_since(year=2017, day=20, month=1):\n",
    "    filenames = [\"article_data/articles1.csv\", \"article_data/articles2.csv\", \"article_data/articles3.csv\"]\n",
    "    df = pandas.DataFrame()\n",
    "    for filename in filenames:\n",
    "        df = df.append(pandas.read_csv(filename))\n",
    "\n",
    "    inauguration = datetime.datetime(day=day, month=month, year=year)\n",
    "    df.date = pandas.to_datetime(df.date, yearfirst=True)\n",
    "    df = df.loc[df.date > inauguration]\n",
    "    df.to_csv(\"since_inaug.csv\")"
   ]
  },
  {
   "cell_type": "code",
   "execution_count": 41,
   "metadata": {},
   "outputs": [],
   "source": [
    "import numpy as np\n",
    "from sklearn.cluster import KMeans\n",
    "from sklearn.feature_extraction.text import TfidfVectorizer\n",
    "from sklearn.decomposition import PCA, KernelPCA\n",
    "from nltk.stem.snowball import EnglishStemmer\n",
    "from sklearn.preprocessing import RobustScaler, scale\n",
    "stemmer = EnglishStemmer()\n",
    "def stem_words(sentence):\n",
    "    words = [stemmer.stem(word) for word in sentence.split(\" \")]\n",
    "    return \" \".join(words)\n",
    "    \n",
    "def run_kmeans(filename, n_topics, ngram_range, **kwargs):\n",
    "    stemmer = EnglishStemmer()\n",
    "    data = load_dataset(filename)\n",
    "    data.dropna(subset=['content', 'title'], inplace=True)\n",
    "    vec = TfidfVectorizer(stop_words='english', ngram_range=ngram_range, max_features=1500)\n",
    "    print(\"here1\")\n",
    "    titles = data['title'].apply(lambda x: stem_words(re.sub(\"( - Breitbart)|([\\s]+$)|(^[\\s]+)|(as it happened)|(\\u2019)|(\\u2018)|(\\u2013)|(\\u201c)|(\\u201d)|(\\u00a0)|( - The New York Times)\", \" \", x)))\n",
    "    titles = titles.apply(lambda x: re.sub(\"[\\s]+\", u\" \", x))\n",
    "    transformed_docs = vec.fit_transform(titles)\n",
    "    print(\"here2\")\n",
    "    # Convert to array, RobustScaler does not work on sparse matricies\n",
    "    transformed_docs = transformed_docs\n",
    "    scaled_docs = scale(transformed_docs, with_mean=False)\n",
    "    topic_model = KMeans(n_clusters=n_topics, n_jobs=-1)\n",
    "    print(\"here3\")\n",
    "    clusters = topic_model.fit_predict(scaled_docs)\n",
    "    clusters_labels = [{'index': index.item(), 'cluster_label': cluster_label.item(), 'title': title , 'publication': publication} for index,cluster_label,title, publication in zip(np.arange(0, clusters.shape[0]), clusters, titles, data['publication'])]\n",
    "    cluster_df = pandas.DataFrame(clusters_labels)\n",
    "    cluster_df.to_csv(\"clusters.csv\")\n",
    "    components = get_pc(cluster_df, n_topics=n_topics, **kwargs)\n",
    "    return components\n",
    "    #cluster_df.to_csv(\"clusters.csv\")\n"
   ]
  },
  {
   "cell_type": "code",
   "execution_count": null,
   "metadata": {},
   "outputs": [],
   "source": []
  },
  {
   "cell_type": "code",
   "execution_count": 122,
   "metadata": {},
   "outputs": [],
   "source": [
    "from sklearn.decomposition import PCA\n",
    "\n",
    "def get_pc(df, n_topics, n_components=3, **kwargs):\n",
    "\n",
    "    publications = pandas.unique(df['publication'])\n",
    "    print(publications.shape)\n",
    "    init_matrix = np.zeros((publications.shape[0], n_topics))\n",
    "    print(init_matrix.shape)\n",
    "\n",
    "    index_converter = {}\n",
    "    for i,publication in enumerate(publications):\n",
    "        index_converter[publication] = i\n",
    "\n",
    "    for i,j in enumerate(df.index):\n",
    "        cluster = df.loc[j, 'cluster_label']\n",
    "        init_matrix[index_converter[df.loc[j, 'publication']], cluster] += 1\n",
    "\n",
    "    pca_model = PCA(n_components=n_components, whiten=True, svd_solver=\"randomized\", **kwargs)\n",
    "    components = pca_model.fit_transform(init_matrix)\n",
    "        \n",
    "    return components, publications"
   ]
  },
  {
   "cell_type": "code",
   "execution_count": 123,
   "metadata": {},
   "outputs": [
    {
     "name": "stdout",
     "output_type": "stream",
     "text": [
      "(15,)\n",
      "(15, 40)\n"
     ]
    }
   ],
   "source": [
    "import pickle,pandas\n",
    "import numpy as np\n",
    "\n",
    "from sklearn.preprocessing import StandardScaler, MinMaxScaler, RobustScaler\n",
    "from matplotlib.pyplot import plot #, show\n",
    "#with open('pickle/pickled_matrix.pkl', 'rb') as file:\n",
    "#    pickled = pickle.Unpickler(file)\n",
    "#    matrix = pickled.load()\n",
    "df = pandas.read_csv(\"clusters.csv\")\n",
    "matrix, publications = get_pc(df, 40)\n",
    "daf = pandas.DataFrame(matrix, columns=['first', 'second', 'third'])    \n",
    "#print(plot('first', 'second', 'bo', data=df))\n",
    "#df2 = pandas.DataFrame(matrix2, columns=['first', 'second'])\n",
    "#matrix3 = RobustScaler().fit_transform(matrix)\n",
    "#df3 = pandas.DataFrame(matrix3, columns=['first', 'second'])\n",
    "\n",
    "#p1 = plot('first', 'second', 'bo', data=daf)\n",
    "#p2 = plot('first', 'second', 'bo', data=df2)\n",
    "#p3 = plot('first', 'second', 'bo', data=df3)\n",
    "#show()\n"
   ]
  },
  {
   "cell_type": "code",
   "execution_count": 124,
   "metadata": {},
   "outputs": [],
   "source": [
    "import pandas, rpy2;\n",
    "import rpy2.robjects.numpy2ri, rpy2.robjects.pandas2ri;\n",
    "rpy2.robjects.numpy2ri.activate();\n",
    "rpy2.robjects.pandas2ri.activate();\n",
    "\n",
    "\n",
    "rpy2.robjects.r['options'](warn=-1)\n",
    "\n",
    "%reload_ext rpy2.ipython\n",
    "\n"
   ]
  },
  {
   "cell_type": "code",
   "execution_count": 125,
   "metadata": {},
   "outputs": [],
   "source": [
    "%R -i publications -o publications\n",
    "%R -i daf -o daf"
   ]
  },
  {
   "cell_type": "code",
   "execution_count": 126,
   "metadata": {},
   "outputs": [
    {
     "data": {
      "image/png": "[encoded data removed]"
     },
     "metadata": {},
     "output_type": "display_data"
    }
   ],
   "source": [
    "%%R library(ggplot2); library(dplyr); library(ggrepel); library(plotly);\n",
    "daf$publications = publications\n",
    "graph = daf %>% ggplot() + aes(x=first, y=second) + geom_point(size=4, shape=19, color=\"blue\") + geom_text_repel(aes(label=publications),box.padding   = 0.35, \n",
    "                  point.padding = 0.5,\n",
    "                  segment.color = 'grey50') + theme_classic() + ggtitle('First, Second Principal Components by Publication') + theme(plot.title=element_text(hjust=0.5, size=14, face=\"bold\"))\n",
    "\n",
    "\n",
    "print(graph)\n",
    "\n",
    "plot_ly(daf, x=~first, y=~second, z=~third, text= ~ as.factor(publications)) %>% add_markers()"
   ]
  },
  {
   "cell_type": "code",
   "execution_count": null,
   "metadata": {},
   "outputs": [],
   "source": []
  }
 ],
 "metadata": {
  "kernelspec": {
   "display_name": "Python 3",
   "language": "python",
   "name": "python3"
  },
  "language_info": {
   "codemirror_mode": {
    "name": "ipython",
    "version": 3
   },
   "file_extension": ".py",
   "mimetype": "text/x-python",
   "name": "python",
   "nbconvert_exporter": "python",
   "pygments_lexer": "ipython3",
   "version": "3.6.3"
  }
 },
 "nbformat": 4,
 "nbformat_minor": 1
}
